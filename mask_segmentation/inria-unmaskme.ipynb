{
 "cells": [
  {
   "cell_type": "markdown",
   "metadata": {
    "id": "iLpnCK-PL64w"
   },
   "source": [
    "## setup de l'environement"
   ]
  },
  {
   "cell_type": "code",
   "execution_count": 4,
   "metadata": {
    "execution": {
     "iopub.execute_input": "2021-11-11T01:51:40.591639Z",
     "iopub.status.busy": "2021-11-11T01:51:40.591335Z",
     "iopub.status.idle": "2021-11-11T01:51:40.600309Z",
     "shell.execute_reply": "2021-11-11T01:51:40.599341Z",
     "shell.execute_reply.started": "2021-11-11T01:51:40.591605Z"
    },
    "id": "FTS0-d8vykCJ",
    "outputId": "47e3d546-48d0-46c2-f438-6a768fc818cc"
   },
   "outputs": [],
   "source": [
    "#from google.colab import drive\n",
    "import os\n",
    "import numpy as np\n",
    "#drive.mount('/content/drive',force_remount=True)\n",
    "os.chdir('/kaggle/input/celebamasked')\n"
   ]
  },
  {
   "cell_type": "code",
   "execution_count": 23,
   "metadata": {
    "execution": {
     "iopub.execute_input": "2021-11-11T02:02:04.919814Z",
     "iopub.status.busy": "2021-11-11T02:02:04.919466Z",
     "iopub.status.idle": "2021-11-11T02:02:05.682316Z",
     "shell.execute_reply": "2021-11-11T02:02:05.680947Z",
     "shell.execute_reply.started": "2021-11-11T02:02:04.919781Z"
    }
   },
   "outputs": [],
   "source": [
    "!ls /kaggle"
   ]
  },
  {
   "cell_type": "code",
   "execution_count": null,
   "metadata": {
    "id": "tMetgKbl_6T_",
    "outputId": "0f7c53f7-89fe-4248-f48a-afaf66760742"
   },
   "outputs": [],
   "source": [
    "def replace(dir):\n",
    "  for path in tqdm(os.listdir(dir)):\n",
    "    out_path_X = os.path.join(dir,path)\n",
    "    out_path_Y = os.path.join('_masked/',path.replace('_surgical', ''))\n",
    "    os.rename(out_path_X,out_path_Y)\n",
    "    \n",
    "replace('test/x/')\n",
    "replace('validation/x/')\n"
   ]
  },
  {
   "cell_type": "code",
   "execution_count": 14,
   "metadata": {
    "execution": {
     "iopub.execute_input": "2021-11-11T01:56:17.383494Z",
     "iopub.status.busy": "2021-11-11T01:56:17.382991Z",
     "iopub.status.idle": "2021-11-11T01:56:17.621832Z",
     "shell.execute_reply": "2021-11-11T01:56:17.620584Z",
     "shell.execute_reply.started": "2021-11-11T01:56:17.383458Z"
    },
    "id": "yHTRai3ZYu-s",
    "outputId": "d874b60c-b934-473d-ba5a-beae6a89363d"
   },
   "outputs": [],
   "source": [
    "import os \n",
    "print(len(os.listdir('_masked/_masked')))\n",
    "print(len(os.listdir('mask/mask')))\n"
   ]
  },
  {
   "cell_type": "code",
   "execution_count": 21,
   "metadata": {
    "execution": {
     "iopub.execute_input": "2021-11-11T02:00:43.025845Z",
     "iopub.status.busy": "2021-11-11T02:00:43.025584Z",
     "iopub.status.idle": "2021-11-11T02:00:43.034415Z",
     "shell.execute_reply": "2021-11-11T02:00:43.033148Z",
     "shell.execute_reply.started": "2021-11-11T02:00:43.025816Z"
    }
   },
   "outputs": [],
   "source": [
    "os.path.exists('_masked/_masked/186753_surgical.jpg')"
   ]
  },
  {
   "cell_type": "code",
   "execution_count": 24,
   "metadata": {
    "execution": {
     "iopub.execute_input": "2021-11-11T02:02:25.240809Z",
     "iopub.status.busy": "2021-11-11T02:02:25.240477Z",
     "iopub.status.idle": "2021-11-11T02:02:25.427195Z",
     "shell.execute_reply": "2021-11-11T02:02:25.425945Z",
     "shell.execute_reply.started": "2021-11-11T02:02:25.240774Z"
    },
    "id": "e1vDnj2glGDt",
    "outputId": "8d1a3f55-c58b-4013-c0ad-c432b83f63bd"
   },
   "outputs": [],
   "source": [
    "import shutil \n",
    "\n",
    "def movedata(X_dir,Y_dir):\n",
    "  X_paths = os.listdir(X_dir)\n",
    "  length = 19699 #len(my_dir)\n",
    "  os.makedirs('/kaggle/working/train',exist_ok=True)\n",
    "  os.makedirs('/kaggle/working/train/x',exist_ok=True)\n",
    "  os.makedirs('/kaggle/working/train/y',exist_ok=True)\n",
    "  os.makedirs('/kaggle/working/validation',exist_ok=True)\n",
    "  os.makedirs('/kaggle/working/validation/x',exist_ok=True)\n",
    "  os.makedirs('/kaggle/working/validation/y',exist_ok=True)\n",
    "  os.makedirs('/kaggle/working/test',exist_ok=True)\n",
    "  os.makedirs('/kaggle/working/test/x',exist_ok=True)\n",
    "  os.makedirs('/kaggle/working/test/y',exist_ok=True)\n",
    "  \n",
    "  index = 0\n",
    "  acc = 0\n",
    "  l1 = length * 0.6\n",
    "  l2 = length * 0.8\n",
    "  for path in tqdm(X_paths):\n",
    "    file_ = path\n",
    "    if index < l1:\n",
    "      outdir = '/kaggle/working/train'  \n",
    "    elif index < l2 :\n",
    "      outdir = '/kaggle/working/validation'\n",
    "    else :\n",
    "      outdir = '/kaggle/working/test'\n",
    "    index += 1\n",
    "    origin_path_X = os.path.join(X_dir,file_)\n",
    "    origin_path_Y = os.path.join(Y_dir,file_.replace('_surgical',''))\n",
    "    \n",
    "    out_path_X = os.path.join(outdir,'x/',file_)\n",
    "    out_path_Y = os.path.join(outdir,'y/',file_)\n",
    "    #try :\n",
    "    shutil.move(origin_path_X,out_path_X)\n",
    "    shutil.move(origin_path_Y,out_path_Y) \n",
    "    #except :\n",
    "    #  acc +=1\n",
    "    \n",
    "  print(acc)\n",
    "movedata('_masked/_masked/','mask/mask/')"
   ]
  },
  {
   "cell_type": "code",
   "execution_count": null,
   "metadata": {},
   "outputs": [],
   "source": [
    "import splitfolders  # or import split_folders\n",
    "\n",
    "splitfolders.ratio(\"input_folder\", output=\"output\", seed=1337, ratio=(.8, .1, .1), group_prefix=None) # default values\n"
   ]
  },
  {
   "cell_type": "code",
   "execution_count": 17,
   "metadata": {
    "execution": {
     "iopub.execute_input": "2021-11-11T01:53:57.123821Z",
     "iopub.status.busy": "2021-11-11T01:53:57.123513Z",
     "iopub.status.idle": "2021-11-11T01:53:59.057871Z",
     "shell.execute_reply": "2021-11-11T01:53:59.056799Z",
     "shell.execute_reply.started": "2021-11-11T01:53:57.123791Z"
    },
    "id": "Uy3shNC7yqKf"
   },
   "outputs": [],
   "source": [
    "import torch\n",
    "import torch.nn as nn\n",
    "import torch.nn as nn\n",
    "import torch.nn.functional as F\n",
    "\n",
    "from torchvision import datasets, transforms\n",
    "from torch.optim.lr_scheduler import StepLR\n",
    "import torchvision\n",
    "from torch.utils.data import DataLoader\n",
    "from torchvision import datasets, transforms, models\n",
    "import torch.nn.functional as F\n",
    "from torchvision.transforms import ToTensor, Lambda, Compose\n",
    "import torch.optim as optim\n",
    "import matplotlib.pyplot as plt\n",
    "import numpy as np\n",
    "from tqdm import tqdm\n",
    "from tqdm.auto import tqdm as tq\n",
    "from PIL import Image"
   ]
  },
  {
   "cell_type": "markdown",
   "metadata": {
    "id": "BoemUMevMHce"
   },
   "source": [
    "## Model - Unet"
   ]
  },
  {
   "cell_type": "code",
   "execution_count": 26,
   "metadata": {
    "execution": {
     "iopub.execute_input": "2021-11-11T02:10:32.291128Z",
     "iopub.status.busy": "2021-11-11T02:10:32.290821Z",
     "iopub.status.idle": "2021-11-11T02:10:32.314720Z",
     "shell.execute_reply": "2021-11-11T02:10:32.313647Z",
     "shell.execute_reply.started": "2021-11-11T02:10:32.291097Z"
    },
    "id": "HA1SVflgyvsj"
   },
   "outputs": [],
   "source": [
    "class double_conv(nn.Module):\n",
    "    \"\"\"(conv => BN => ReLU) * 2\"\"\"\n",
    "\n",
    "    def __init__(self, in_ch, out_ch):\n",
    "        super(double_conv, self).__init__()\n",
    "        self.conv = nn.Sequential(\n",
    "            nn.Conv2d(in_ch, out_ch, 3, padding=1),\n",
    "            nn.BatchNorm2d(out_ch),\n",
    "            nn.ReLU(inplace=True),\n",
    "            nn.Conv2d(out_ch, out_ch, 3, padding=1),\n",
    "            nn.BatchNorm2d(out_ch),\n",
    "            nn.ReLU(inplace=True),\n",
    "        )\n",
    "\n",
    "    def forward(self, x):\n",
    "        x = self.conv(x)\n",
    "        return x\n",
    "\n",
    "\n",
    "class inconv(nn.Module):\n",
    "    def __init__(self, in_ch, out_ch):\n",
    "        super(inconv, self).__init__()\n",
    "        self.conv = double_conv(in_ch, out_ch)\n",
    "\n",
    "    def forward(self, x):\n",
    "        x = self.conv(x)\n",
    "        return x\n",
    "\n",
    "\n",
    "class down(nn.Module):\n",
    "    def __init__(self, in_ch, out_ch):\n",
    "        super(down, self).__init__()\n",
    "        self.mpconv = nn.Sequential(nn.MaxPool2d(2), double_conv(in_ch, out_ch))\n",
    "\n",
    "    def forward(self, x):\n",
    "        x = self.mpconv(x)\n",
    "        return x\n",
    "\n",
    "\n",
    "class up(nn.Module):\n",
    "    def __init__(self, in_ch, out_ch, bilinear=True):\n",
    "        super(up, self).__init__()\n",
    "\n",
    "        if bilinear:\n",
    "            self.up = nn.Upsample(scale_factor=2, mode=\"nearest\", align_corners=True)\n",
    "        else:\n",
    "            self.up = nn.ConvTranspose2d(in_ch // 2, in_ch // 2, 2, stride=2)\n",
    "\n",
    "        self.conv = double_conv(in_ch, out_ch)\n",
    "\n",
    "    def forward(self, x1, x2):\n",
    "        x1 = self.up(x1)\n",
    "\n",
    "        # input is CHW\n",
    "        diffY = x2.size()[2] - x1.size()[2]\n",
    "        diffX = x2.size()[3] - x1.size()[3]\n",
    "\n",
    "        x1 = F.pad(x1, (diffX // 2, diffX - diffX // 2, diffY // 2, diffY - diffY // 2))\n",
    "        \n",
    "        x = torch.cat([x2, x1], dim=1)\n",
    "        return self.conv(x)\n",
    "\n",
    "\n",
    "class outconv(nn.Module):\n",
    "    def __init__(self, in_ch, out_ch):\n",
    "        super(outconv, self).__init__()\n",
    "        self.conv = nn.Conv2d(in_ch, out_ch, 1)\n",
    "\n",
    "    def forward(self, x):\n",
    "        x = self.conv(x)\n",
    "        return x\n",
    "\n",
    "\n",
    "class UNet(nn.Module):\n",
    "    def __init__(self, n_channels, n_classes):\n",
    "        super(UNet, self).__init__()\n",
    "        self.inc = inconv(n_channels, 64)\n",
    "        self.down1 = down(64, 128)\n",
    "        self.down2 = down(128, 256)\n",
    "        self.down3 = down(256, 512)\n",
    "        self.down4 = down(512, 512)\n",
    "        self.up1 = up(1024, 256, False)\n",
    "        self.up2 = up(512, 128, False)\n",
    "        self.up3 = up(256, 64, False)\n",
    "        self.up4 = up(128, 64, False)\n",
    "        self.outc = outconv(64, n_classes)\n",
    "\n",
    "    def forward(self, x):\n",
    "        x1 = self.inc(x)\n",
    "        x2 = self.down1(x1)\n",
    "        x3 = self.down2(x2)\n",
    "        x4 = self.down3(x3)\n",
    "        x5 = self.down4(x4)\n",
    "        x = self.up1(x5, x4)\n",
    "        x = self.up2(x, x3)\n",
    "        x = self.up3(x, x2)\n",
    "        x = self.up4(x, x1)\n",
    "        x = self.outc(x)\n",
    "        return torch.sigmoid(x)"
   ]
  },
  {
   "cell_type": "code",
   "execution_count": null,
   "metadata": {
    "id": "8Acnfjqgytut"
   },
   "outputs": [],
   "source": [
    "LOAD = False\n",
    "PATH = './path'\n",
    "model = UNet(3,1).float()\n",
    "if LOAD :\n",
    "    model.load_state_dict(torch.load(PATH))\n",
    "device = torch.device(\"cuda:0\" if torch.cuda.is_available() else \"cpu\")\n",
    "\n",
    "model.to(device)"
   ]
  },
  {
   "cell_type": "markdown",
   "metadata": {
    "id": "d1f94B1FMO-6"
   },
   "source": [
    "## data loader"
   ]
  },
  {
   "cell_type": "code",
   "execution_count": 54,
   "metadata": {
    "cellView": "code",
    "execution": {
     "iopub.execute_input": "2021-11-11T03:45:24.626737Z",
     "iopub.status.busy": "2021-11-11T03:45:24.626314Z",
     "iopub.status.idle": "2021-11-11T03:45:24.854935Z",
     "shell.execute_reply": "2021-11-11T03:45:24.853580Z",
     "shell.execute_reply.started": "2021-11-11T03:45:24.626684Z"
    },
    "id": "qbeW5CARyvmq"
   },
   "outputs": [],
   "source": [
    "#@title Default title text\n",
    "import torch\n",
    "from skimage.io import imread\n",
    "from torch.utils import data\n",
    "import os\n",
    "from MaskTheFace.utils.aux_functions import mask_image , download_dlib_model\n",
    "import argparse\n",
    "import dlib\n",
    "import torchvision.transforms.functional as TF\n",
    "import random\n",
    "from torchvision import datasets, transforms\n",
    "\n",
    "\n",
    "class AddGaussianNoise(object):\n",
    "    def __init__(self, mean=0., std=1.):\n",
    "        self.std = std\n",
    "        self.mean = mean\n",
    "        \n",
    "    def __call__(self, tensor):\n",
    "        return tensor + torch.randn(tensor.size()) * self.std + self.mean\n",
    "    \n",
    "    def __repr__(self):\n",
    "        return self.__class__.__name__ + '(mean={0}, std={1})'.format(self.mean, self.std)\n",
    "\n",
    "class Args():\n",
    "    def __init__(self,mask_types=['surgical'],pattern='',color='#0473e2',color_weight = 0.5):\n",
    "        self.mask_types = mask_types\n",
    "        self.mask_type = mask_types[0] #'surgical', 'N95', 'KN95', 'cloth', 'gas'\n",
    "        self.pattern = pattern\n",
    "        self.color = color\n",
    "        self.color_weight = color_weight\n",
    "    verbose = False\n",
    "    code = None\n",
    "    path_to_dlib_model = \"dlib_models/shape_predictor_68_face_landmarks.dat\"\n",
    "    if not os.path.exists(path_to_dlib_model):\n",
    "        download_dlib_model()\n",
    "    predictor = dlib.shape_predictor(path_to_dlib_model)\n",
    "    detector = dlib.get_frontal_face_detector()\n",
    "\n",
    "class dataset(data.Dataset):\n",
    "    def __init__(self,src_image,args):   # initial logic happens like transform\n",
    "        self.src_image = src_image\n",
    "        self.image_paths = os.listdir(src_image)\n",
    "        self.args = args\n",
    "        print('number of images:',self.__len__())\n",
    "        \n",
    "    def transform(self, image, mask):\n",
    "        topil = transforms.ToPILImage()\n",
    "        image , mask = topil(image), topil(mask)\n",
    "        \n",
    "        resize = transforms.Resize(size=(128,128))\n",
    "        image, mask = resize(image), resize(mask)\n",
    "\n",
    "        if random.random() > 0.5:\n",
    "            image, mask= TF.hflip(image), TF.hflip(mask)\n",
    "\n",
    "        # Transform to tensor\n",
    "        image, mask = TF.to_tensor(image), TF.to_tensor(mask)\n",
    "        return image, mask\n",
    "        \n",
    "        \n",
    "    def __getitem__(self, index):\n",
    "        #X = self.celebA.__getitem__(index)\n",
    "        src = os.path.join(self.src_image,self.image_paths[index])\n",
    "        args.mask_type = random.choice(self.args.mask_types)\n",
    "        masked,masktype,mask,original = mask_image(src,self.args)\n",
    "        \n",
    "        image, mask = self.transform(masked[0], mask[0])\n",
    "        return image, mask\n",
    "\n",
    "    def __len__(self):  # return count of sample we have\n",
    "        #return celebAdataset.__len__()\n",
    "        return len(self.image_paths)\n",
    "               "
   ]
  },
  {
   "cell_type": "code",
   "execution_count": 28,
   "metadata": {
    "execution": {
     "iopub.execute_input": "2021-11-11T02:10:57.356798Z",
     "iopub.status.busy": "2021-11-11T02:10:57.355821Z",
     "iopub.status.idle": "2021-11-11T02:10:57.367120Z",
     "shell.execute_reply": "2021-11-11T02:10:57.365708Z",
     "shell.execute_reply.started": "2021-11-11T02:10:57.356762Z"
    },
    "id": "BDKJsbVXs7gY",
    "outputId": "85b8d480-3444-4a7b-c464-cc635e91e117"
   },
   "outputs": [],
   "source": [
    "import os \n",
    "print(len(os.listdir('_masked')))\n",
    "print(len(os.listdir('mask')))\n"
   ]
  },
  {
   "cell_type": "code",
   "execution_count": 55,
   "metadata": {
    "execution": {
     "iopub.execute_input": "2021-11-11T03:45:31.475504Z",
     "iopub.status.busy": "2021-11-11T03:45:31.475244Z",
     "iopub.status.idle": "2021-11-11T03:45:31.960184Z",
     "shell.execute_reply": "2021-11-11T03:45:31.959174Z",
     "shell.execute_reply.started": "2021-11-11T03:45:31.475475Z"
    },
    "id": "qGmzKc7tyvey",
    "outputId": "12780d41-2256-4c45-ded4-0677a08220d5"
   },
   "outputs": [],
   "source": [
    "args = Args()\n",
    "\n",
    "train_dataset = dataset('../data/img_align_celeba',args)\n",
    "val_dataset   = dataset('../data/img_align_celeba',args)\n",
    "batch_size = 8\n",
    "num_workers = 2\n",
    "trainloader = DataLoader(\n",
    "    train_dataset, batch_size=batch_size, shuffle=True, num_workers=num_workers\n",
    ")\n",
    "valloader = DataLoader(\n",
    "    val_dataset, batch_size=batch_size, shuffle=True, num_workers=num_workers\n",
    ")"
   ]
  },
  {
   "cell_type": "code",
   "execution_count": null,
   "metadata": {
    "id": "9Wu9ftswyvTs",
    "outputId": "2fc88429-1085-4c98-cdb6-4c87792c19c7"
   },
   "outputs": [],
   "source": [
    "x,y = train_dataset.__getitem__(0)\n",
    "print(x.shape,y.shape)\n",
    "x,y = val_dataset.__getitem__(0)\n",
    "print(x.shape,y.shape)\n",
    "y.mean()"
   ]
  },
  {
   "cell_type": "markdown",
   "metadata": {
    "id": "9WVb1KfGMqO6"
   },
   "source": [
    "## Training "
   ]
  },
  {
   "cell_type": "code",
   "execution_count": 33,
   "metadata": {
    "execution": {
     "iopub.execute_input": "2021-11-11T02:12:17.734886Z",
     "iopub.status.busy": "2021-11-11T02:12:17.734087Z",
     "iopub.status.idle": "2021-11-11T02:12:17.747519Z",
     "shell.execute_reply": "2021-11-11T02:12:17.746404Z",
     "shell.execute_reply.started": "2021-11-11T02:12:17.734851Z"
    },
    "id": "2HFW5kN6fZzz"
   },
   "outputs": [],
   "source": [
    "def dice_coef_metric(pred, label):\n",
    "    intersection = 2.0 * (pred * label).sum()\n",
    "    union = pred.sum() + label.sum()\n",
    "    if pred.sum() == 0 and label.sum() == 0:\n",
    "        return 1.\n",
    "    return intersection / union\n",
    "def dice_coef_loss(pred, label):\n",
    "    smooth = 1.0\n",
    "    intersection = 2.0 * (pred * label).sum() + smooth\n",
    "    union = pred.sum() + label.sum() + smooth\n",
    "    return 1 - (intersection / union)\n",
    "def bce_dice_loss(pred, label):\n",
    "    dice_loss = dice_coef_loss(pred, label)\n",
    "    bce_loss = nn.BCELoss()(pred, label)\n",
    "    return dice_loss + bce_loss\n",
    "def compute_iou(model, loader, threshold=0.3):\n",
    "    valloss = 0\n",
    "    with torch.no_grad():\n",
    "        for step, (data, target) in enumerate(loader):\n",
    "            data = data.to(device)\n",
    "            target = target.to(device)\n",
    "\n",
    "            outputs = model(data)\n",
    "            out_cut = np.copy(outputs.data.cpu().numpy())\n",
    "            out_cut[np.nonzero(out_cut < threshold)] = 0.0\n",
    "            out_cut[np.nonzero(out_cut >= threshold)] = 1.0\n",
    "\n",
    "            loss = dice_coef_metric(out_cut, target.data.cpu().numpy())\n",
    "            valloss += loss\n",
    "\n",
    "    return valloss / step"
   ]
  },
  {
   "cell_type": "code",
   "execution_count": 34,
   "metadata": {
    "execution": {
     "iopub.execute_input": "2021-11-11T02:12:19.440681Z",
     "iopub.status.busy": "2021-11-11T02:12:19.440116Z",
     "iopub.status.idle": "2021-11-11T02:12:19.453327Z",
     "shell.execute_reply": "2021-11-11T02:12:19.452295Z",
     "shell.execute_reply.started": "2021-11-11T02:12:19.440633Z"
    },
    "id": "9mbc5LAKfHgl"
   },
   "outputs": [],
   "source": [
    "def train_model(train_loader, val_loader, loss_func, optimizer, scheduler, num_epochs):\n",
    "    loss_history = []\n",
    "    train_history = []\n",
    "    val_history = []\n",
    "    \n",
    "    for epoch in range(num_epochs):\n",
    "        model.train()\n",
    "        \n",
    "        losses = []\n",
    "        train_iou = []\n",
    "        \n",
    "        for i, (image, mask) in enumerate(tqdm(train_loader)):\n",
    "            image = image.to(device)\n",
    "            mask = mask.to(device)\n",
    "            outputs = model(image)\n",
    "            out_cut = np.copy(outputs.data.cpu().numpy())\n",
    "            out_cut[np.nonzero(out_cut < 0.5)] = 0.0\n",
    "            out_cut[np.nonzero(out_cut >= 0.5)] = 1.0            \n",
    "            \n",
    "            train_dice = dice_coef_metric(out_cut, mask.data.cpu().numpy())\n",
    "            loss = loss_func(outputs, mask)\n",
    "            losses.append(loss.item())\n",
    "            train_iou.append(train_dice)\n",
    "            \n",
    "            optimizer.zero_grad()\n",
    "            loss.backward()\n",
    "            optimizer.step()\n",
    "                \n",
    "        #val_mean_iou = compute_iou(model, val_loader)\n",
    "        #scheduler.step(val_mean_iou)\n",
    "        loss_history.append(np.array(losses).mean())\n",
    "        train_history.append(np.array(train_iou).mean())\n",
    "        #val_history.append(val_mean_iou)\n",
    "        \n",
    "        print('Epoch : {}/{}'.format(epoch+1, num_epochs))\n",
    "        print('loss: {:.3f} - dice_coef: {:.3f} - val_dice_coef: '.format(np.array(losses).mean(),\n",
    "                                                                               np.array(train_iou).mean()\n",
    "                                                                               ))\n",
    "    return loss_history, train_history, val_history\n",
    "optimizer = torch.optim.Adam(model.parameters(), lr=1e-3)\n",
    "scheduler = torch.optim.lr_scheduler.ReduceLROnPlateau(optimizer, 'max', patience=3)\n"
   ]
  },
  {
   "cell_type": "code",
   "execution_count": 56,
   "metadata": {
    "execution": {
     "iopub.execute_input": "2021-11-11T03:46:18.598572Z",
     "iopub.status.busy": "2021-11-11T03:46:18.598271Z",
     "iopub.status.idle": "2021-11-11T04:14:10.849453Z",
     "shell.execute_reply": "2021-11-11T04:14:10.848297Z",
     "shell.execute_reply.started": "2021-11-11T03:46:18.598540Z"
    },
    "id": "HfgP5QDtz03j",
    "outputId": "0115c669-eb6a-4188-9899-6898fe35d781"
   },
   "outputs": [],
   "source": [
    "train_loss_list, valid_loss_list, dice_score_list = train_model(trainloader,valloader,bce_dice_loss,optimizer,scheduler,1)\n",
    "#torch.save(model.state_dict(), './path')"
   ]
  },
  {
   "cell_type": "code",
   "execution_count": null,
   "metadata": {},
   "outputs": [],
   "source": [
    "torch.save(model.state_dict(), '/kaggle/working/model.pth')"
   ]
  },
  {
   "cell_type": "markdown",
   "metadata": {
    "id": "aeothuppM0pU"
   },
   "source": [
    "## ploting training "
   ]
  },
  {
   "cell_type": "code",
   "execution_count": 36,
   "metadata": {
    "execution": {
     "iopub.execute_input": "2021-11-11T03:37:04.660266Z",
     "iopub.status.busy": "2021-11-11T03:37:04.659476Z",
     "iopub.status.idle": "2021-11-11T03:37:05.140006Z",
     "shell.execute_reply": "2021-11-11T03:37:05.138797Z",
     "shell.execute_reply.started": "2021-11-11T03:37:04.660234Z"
    },
    "id": "kG_ATKrVZp8z"
   },
   "outputs": [],
   "source": [
    "plt.figure(figsize=(10,10))\n",
    "plt.plot(train_loss_list,  marker='o', label=\"Training Loss\")\n",
    "plt.plot(valid_loss_list,  marker='o', label=\"Validation Loss\")\n",
    "plt.ylabel('loss', fontsize=22)\n",
    "plt.legend()\n",
    "plt.show()"
   ]
  },
  {
   "cell_type": "code",
   "execution_count": null,
   "metadata": {},
   "outputs": [],
   "source": [
    "plt.figure(figsize=(12,5))\n",
    "plt.subplot(1,2,1)\n",
    "plt.plot(h.history['loss']);\n",
    "plt.plot(h.history['val_loss']);\n",
    "plt.title(\"SEG Model focal tversky Loss\");\n",
    "plt.ylabel(\"focal tversky loss\");\n",
    "plt.xlabel(\"Epochs\");\n",
    "plt.legend(['train', 'val']);\n",
    "\n",
    "plt.subplot(1,2,2)\n",
    "plt.plot(h.history['tversky']);\n",
    "plt.plot(h.history['val_tversky']);\n",
    "plt.title(\"SEG Model tversky score\");\n",
    "plt.ylabel(\"tversky Accuracy\");\n",
    "plt.xlabel(\"Epochs\");\n",
    "plt.legend(['train', 'val']);"
   ]
  },
  {
   "cell_type": "code",
   "execution_count": 15,
   "metadata": {
    "execution": {
     "iopub.execute_input": "2021-11-11T03:37:57.697760Z",
     "iopub.status.busy": "2021-11-11T03:37:57.697394Z",
     "iopub.status.idle": "2021-11-11T03:37:57.704584Z",
     "shell.execute_reply": "2021-11-11T03:37:57.703150Z",
     "shell.execute_reply.started": "2021-11-11T03:37:57.697715Z"
    },
    "id": "YaLyiQqu_vna"
   },
   "outputs": [],
   "source": [
    "def fast_display(*img2dlist):\n",
    "    plt.figure(figsize=(16,8))\n",
    "    nbimg = len(img2dlist)\n",
    "    cols = min (9,nbimg)\n",
    "    rows = (nbimg // cols) +1\n",
    "    for ii, img2d in enumerate(img2dlist):\n",
    "        plt.subplot(rows,cols,1+ii)\n",
    "        plt.imshow(img2d)\n",
    "    plt.show()\n",
    "   "
   ]
  },
  {
   "cell_type": "markdown",
   "metadata": {
    "id": "sONgY_eXNPXz"
   },
   "source": [
    "## Testing"
   ]
  },
  {
   "cell_type": "code",
   "execution_count": 61,
   "metadata": {
    "execution": {
     "iopub.execute_input": "2021-11-11T04:15:45.643530Z",
     "iopub.status.busy": "2021-11-11T04:15:45.643226Z",
     "iopub.status.idle": "2021-11-11T04:15:46.713154Z",
     "shell.execute_reply": "2021-11-11T04:15:46.712162Z",
     "shell.execute_reply.started": "2021-11-11T04:15:45.643495Z"
    },
    "id": "FKWSZ9eWz1aa",
    "outputId": "2b341ab4-e959-47c7-fd83-c2ba6add2417"
   },
   "outputs": [],
   "source": [
    "x,y = train_dataset.__getitem__(0)\n",
    "for i, (data, target) in enumerate(trainloader):\n",
    "    if train_on_gpu:\n",
    "        data = data.cuda()\n",
    "    output = ((model(data))[0]).cpu().detach().numpy()\n",
    "    if i == 6:\n",
    "        break\n",
    "x = data.cpu().detach().numpy() \n",
    "y = target.cpu().detach().numpy() \n",
    "#x = np.moveaxis(x, 0, 2)\n",
    "print(x.shape ,x.dtype)\n",
    "print(y.shape ,y.dtype)\n",
    "print(output.shape ,output.dtype)\n",
    "fast_display(x[0][0] ,y[0][0],output[0] )"
   ]
  },
  {
   "cell_type": "code",
   "execution_count": null,
   "metadata": {
    "id": "vLRT3ms4z1Q3",
    "outputId": "1a8908ae-7877-41ec-f1c0-29a10d17cf3a"
   },
   "outputs": [],
   "source": [
    "fast_display(x[0] ,y[0] )"
   ]
  },
  {
   "cell_type": "code",
   "execution_count": 6,
   "metadata": {
    "id": "IWBfRLh54X78"
   },
   "outputs": [
    {
     "ename": "RuntimeError",
     "evalue": "Dataset not found or corrupted. You can use download=True to download it",
     "output_type": "error",
     "traceback": [
      "\u001b[0;31m---------------------------------------------------------------------------\u001b[0m",
      "\u001b[0;31mRuntimeError\u001b[0m                              Traceback (most recent call last)",
      "\u001b[0;32m<ipython-input-6-5a89b605235c>\u001b[0m in \u001b[0;36m<module>\u001b[0;34m\u001b[0m\n\u001b[1;32m      1\u001b[0m \u001b[0;32mimport\u001b[0m \u001b[0mtorchvision\u001b[0m\u001b[0;34m\u001b[0m\u001b[0;34m\u001b[0m\u001b[0m\n\u001b[0;32m----> 2\u001b[0;31m \u001b[0mimagenet_data\u001b[0m \u001b[0;34m=\u001b[0m \u001b[0mtorchvision\u001b[0m\u001b[0;34m.\u001b[0m\u001b[0mdatasets\u001b[0m\u001b[0;34m.\u001b[0m\u001b[0mCelebA\u001b[0m\u001b[0;34m(\u001b[0m\u001b[0;34m'data/img_align_celeba/'\u001b[0m\u001b[0;34m,\u001b[0m\u001b[0msplit\u001b[0m \u001b[0;34m=\u001b[0m\u001b[0;34m'train'\u001b[0m\u001b[0;34m,\u001b[0m\u001b[0mdownload\u001b[0m\u001b[0;34m=\u001b[0m\u001b[0;32mFalse\u001b[0m\u001b[0;34m)\u001b[0m\u001b[0;34m\u001b[0m\u001b[0;34m\u001b[0m\u001b[0m\n\u001b[0m",
      "\u001b[0;32m~/.local/lib/python3.8/site-packages/torchvision/datasets/celeba.py\u001b[0m in \u001b[0;36m__init__\u001b[0;34m(self, root, split, target_type, transform, target_transform, download)\u001b[0m\n\u001b[1;32m     81\u001b[0m \u001b[0;34m\u001b[0m\u001b[0m\n\u001b[1;32m     82\u001b[0m         \u001b[0;32mif\u001b[0m \u001b[0;32mnot\u001b[0m \u001b[0mself\u001b[0m\u001b[0;34m.\u001b[0m\u001b[0m_check_integrity\u001b[0m\u001b[0;34m(\u001b[0m\u001b[0;34m)\u001b[0m\u001b[0;34m:\u001b[0m\u001b[0;34m\u001b[0m\u001b[0;34m\u001b[0m\u001b[0m\n\u001b[0;32m---> 83\u001b[0;31m             raise RuntimeError('Dataset not found or corrupted.' +\n\u001b[0m\u001b[1;32m     84\u001b[0m                                ' You can use download=True to download it')\n\u001b[1;32m     85\u001b[0m \u001b[0;34m\u001b[0m\u001b[0m\n",
      "\u001b[0;31mRuntimeError\u001b[0m: Dataset not found or corrupted. You can use download=True to download it"
     ]
    }
   ],
   "source": [
    "import torchvision\n",
    "imagenet_data = torchvision.datasets.CelebA('data/img_align_celeba/',split ='train',download=False)\n"
   ]
  },
  {
   "cell_type": "code",
   "execution_count": 12,
   "metadata": {
    "cellView": "code",
    "execution": {
     "iopub.execute_input": "2021-11-11T03:45:24.626737Z",
     "iopub.status.busy": "2021-11-11T03:45:24.626314Z",
     "iopub.status.idle": "2021-11-11T03:45:24.854935Z",
     "shell.execute_reply": "2021-11-11T03:45:24.853580Z",
     "shell.execute_reply.started": "2021-11-11T03:45:24.626684Z"
    },
    "id": "qbeW5CARyvmq"
   },
   "outputs": [],
   "source": []
  },
  {
   "cell_type": "code",
   "execution_count": 13,
   "metadata": {},
   "outputs": [
    {
     "name": "stdout",
     "output_type": "stream",
     "text": [
      "number of images: 202599\n"
     ]
    }
   ],
   "source": [
    "\n",
    "traindataset = dataset('','../data/img_align_celeba',args)"
   ]
  },
  {
   "cell_type": "code",
   "execution_count": 22,
   "metadata": {},
   "outputs": [
    {
     "data": {
      "image/png": "[encoded data removed]",
      "text/plain": [
       "<Figure size 1152x576 with 2 Axes>"
      ]
     },
     "metadata": {
      "needs_background": "light"
     },
     "output_type": "display_data"
    }
   ],
   "source": [
    "x,y = traindataset.__getitem__(101)\n",
    "fast_display(x[0],y[0])"
   ]
  },
  {
   "cell_type": "code",
   "execution_count": 5,
   "metadata": {},
   "outputs": [],
   "source": [
    "os.chdir('MaskTheFace')"
   ]
  },
  {
   "cell_type": "code",
   "execution_count": null,
   "metadata": {},
   "outputs": [],
   "source": []
  }
 ],
 "metadata": {
  "kernelspec": {
   "display_name": "Python 3",
   "language": "python",
   "name": "python3"
  },
  "language_info": {
   "codemirror_mode": {
    "name": "ipython",
    "version": 3
   },
   "file_extension": ".py",
   "mimetype": "text/x-python",
   "name": "python",
   "nbconvert_exporter": "python",
   "pygments_lexer": "ipython3",
   "version": "3.8.10"
  }
 },
 "nbformat": 4,
 "nbformat_minor": 4
}
