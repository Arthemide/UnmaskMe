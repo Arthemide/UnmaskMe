{
  "nbformat": 4,
  "nbformat_minor": 0,
  "metadata": {
    "colab": {
      "name": "inria.ipynb",
      "provenance": []
    },
    "kernelspec": {
      "name": "python3",
      "display_name": "Python 3"
    },
    "language_info": {
      "name": "python"
    },
    "accelerator": "GPU"
  },
  "cells": [
    {
      "cell_type": "code",
      "metadata": {
        "colab": {
          "base_uri": "https://localhost:8080/"
        },
        "id": "FTS0-d8vykCJ",
        "outputId": "e462b2d8-6f65-4d9d-e1af-5b67944523ef"
      },
      "source": [
        "from google.colab import drive\n",
        "import os\n",
        "import numpy as np\n",
        "drive.mount('/content/drive',force_remount=True)\n",
        "os.chdir('/content/drive/My Drive/inria')\n"
      ],
      "execution_count": null,
      "outputs": [
        {
          "output_type": "stream",
          "name": "stdout",
          "text": [
            "Mounted at /content/drive\n"
          ]
        }
      ]
    },
    {
      "cell_type": "code",
      "metadata": {
        "id": "ggomMuvnzAHO"
      },
      "source": [
        "import numpy as np \n",
        "import os\n",
        "import skimage.io as io\n",
        "import skimage.transform as trans\n",
        "import numpy as np\n",
        "from tensorflow.keras.models import *\n",
        "from tensorflow.keras.layers import *\n",
        "from tensorflow.keras.optimizers import *\n",
        "from tensorflow.keras.callbacks import ModelCheckpoint, LearningRateScheduler\n",
        "from tensorflow.keras import backend as keras\n",
        "import tensorflow as tf\n",
        "\n",
        "def unet(pretrained_weights = None,input_size = (192,256,1)):\n",
        "    inputs = Input(input_size)\n",
        "    conv1 = Conv2D(64, 3, activation = 'relu', padding = 'same', kernel_initializer = 'he_normal')(inputs)\n",
        "    conv1 = Conv2D(64, 3, activation = 'relu', padding = 'same', kernel_initializer = 'he_normal')(conv1)\n",
        "    pool1 = MaxPooling2D(pool_size=(2, 2))(conv1)\n",
        "    conv2 = Conv2D(128, 3, activation = 'relu', padding = 'same', kernel_initializer = 'he_normal')(pool1)\n",
        "    conv2 = Conv2D(128, 3, activation = 'relu', padding = 'same', kernel_initializer = 'he_normal')(conv2)\n",
        "    pool2 = MaxPooling2D(pool_size=(2, 2))(conv2)\n",
        "    conv3 = Conv2D(256, 3, activation = 'relu', padding = 'same', kernel_initializer = 'he_normal')(pool2)\n",
        "    conv3 = Conv2D(256, 3, activation = 'relu', padding = 'same', kernel_initializer = 'he_normal')(conv3)\n",
        "    pool3 = MaxPooling2D(pool_size=(2, 2))(conv3)\n",
        "    conv4 = Conv2D(512, 3, activation = 'relu', padding = 'same', kernel_initializer = 'he_normal')(pool3)\n",
        "    conv4 = Conv2D(512, 3, activation = 'relu', padding = 'same', kernel_initializer = 'he_normal')(conv4)\n",
        "    drop4 = Dropout(0.5)(conv4)\n",
        "    pool4 = MaxPooling2D(pool_size=(2, 2))(drop4)\n",
        "\n",
        "    conv5 = Conv2D(1024, 3, activation = 'relu', padding = 'same', kernel_initializer = 'he_normal')(pool4)\n",
        "    conv5 = Conv2D(1024, 3, activation = 'relu', padding = 'same', kernel_initializer = 'he_normal')(conv5)\n",
        "    drop5 = Dropout(0.5)(conv5)\n",
        "\n",
        "    up6 = Conv2D(512, 2, activation = 'relu', padding = 'same', kernel_initializer = 'he_normal')(UpSampling2D(size = (2,2))(drop5))\n",
        "    merge6 = concatenate([drop4,up6], axis = 3)\n",
        "    conv6 = Conv2D(512, 3, activation = 'relu', padding = 'same', kernel_initializer = 'he_normal')(merge6)\n",
        "    conv6 = Conv2D(512, 3, activation = 'relu', padding = 'same', kernel_initializer = 'he_normal')(conv6)\n",
        "\n",
        "    up7 = Conv2D(256, 2, activation = 'relu', padding = 'same', kernel_initializer = 'he_normal')(UpSampling2D(size = (2,2))(conv6))\n",
        "    merge7 = concatenate([conv3,up7], axis = 3)\n",
        "    conv7 = Conv2D(256, 3, activation = 'relu', padding = 'same', kernel_initializer = 'he_normal')(merge7)\n",
        "    conv7 = Conv2D(256, 3, activation = 'relu', padding = 'same', kernel_initializer = 'he_normal')(conv7)\n",
        "\n",
        "    up8 = Conv2D(128, 2, activation = 'relu', padding = 'same', kernel_initializer = 'he_normal')(UpSampling2D(size = (2,2))(conv7))\n",
        "    merge8 = concatenate([conv2,up8], axis = 3)\n",
        "    conv8 = Conv2D(128, 3, activation = 'relu', padding = 'same', kernel_initializer = 'he_normal')(merge8)\n",
        "    conv8 = Conv2D(128, 3, activation = 'relu', padding = 'same', kernel_initializer = 'he_normal')(conv8)\n",
        "\n",
        "    up9 = Conv2D(64, 2, activation = 'relu', padding = 'same', kernel_initializer = 'he_normal')(UpSampling2D(size = (2,2))(conv8))\n",
        "    merge9 = concatenate([conv1,up9], axis = 3)\n",
        "    conv9 = Conv2D(64, 3, activation = 'relu', padding = 'same', kernel_initializer = 'he_normal')(merge9)\n",
        "    conv9 = Conv2D(64, 3, activation = 'relu', padding = 'same', kernel_initializer = 'he_normal')(conv9)\n",
        "    conv9 = Conv2D(2, 3, activation = 'relu', padding = 'same', kernel_initializer = 'he_normal')(conv9)\n",
        "    conv10 = Conv2D(1, 1, activation = 'sigmoid')(conv9)\n",
        "\n",
        "    model = Model(inputs=inputs, outputs = conv10)\n",
        "\n",
        "    model.compile(optimizer ='adam', loss = 'binary_crossentropy', metrics = ['accuracy'])\n",
        "    \n",
        "    #model.summary()\n",
        "\n",
        "    #if(pretrained_weights):\n",
        "    #\tmodel.load_weights(pretrained_weights)\n",
        "\n",
        "    return model\n"
      ],
      "execution_count": null,
      "outputs": []
    },
    {
      "cell_type": "code",
      "metadata": {
        "colab": {
          "base_uri": "https://localhost:8080/"
        },
        "id": "MbJ65GMozA9M",
        "outputId": "242abe16-2a4a-41a4-af0f-184564f0b5a3"
      },
      "source": [
        "from tensorflow.keras.preprocessing.image import ImageDataGenerator\n",
        "\n",
        "seed = 2 # (IMPORTANT) to transform image and corresponding mask with same augmentation parameter.\n",
        "image_datagen = ImageDataGenerator(dtype=np.float32,\n",
        "                                   rescale=1./255,#width_shift_range=0.1,\n",
        "                 #height_shift_range=0.1,\n",
        "                 #preprocessing_function = image_preprocessing\n",
        "                                  ) # custom fuction for each image you can use resnet one too.\n",
        "mask_datagen = ImageDataGenerator(dtype=np.float32,\n",
        "                                  rescale=1./255,#width_shift_range=0.1,\n",
        "                 #height_shift_range=0.1,\n",
        "                 #preprocessing_function = mask_preprocessing\n",
        "                                 )  # to make mask as feedable formate (256,256,1)\n",
        "\n",
        "image_generator =image_datagen.flow_from_directory(\"./masked\",\n",
        "                                                    class_mode=None,\n",
        "                                                    seed=seed,\n",
        "                                                    color_mode=\"grayscale\",\n",
        "                                                   target_size=(96, 96))\n",
        "\n",
        "mask_generator = mask_datagen.flow_from_directory(\"./mask\",\n",
        "                                                   class_mode=None, seed=seed,color_mode=\"grayscale\",target_size=(96, 96))\n",
        "\n",
        "train_generator = zip(image_generator, mask_generator)"
      ],
      "execution_count": null,
      "outputs": [
        {
          "output_type": "stream",
          "name": "stdout",
          "text": [
            "Found 193 images belonging to 1 classes.\n",
            "Found 193 images belonging to 1 classes.\n"
          ]
        }
      ]
    },
    {
      "cell_type": "code",
      "metadata": {
        "id": "s4DVCmvez3KC"
      },
      "source": [
        "from keras.callbacks import Callback \n",
        "import keras.callbacks as callbacks\n",
        "\n",
        "checkpointer = callbacks.ModelCheckpoint(filepath = './weights.hdf5',save_best_only=True)\n",
        "training_log = callbacks.TensorBoard(log_dir='./log')\n",
        "earlystopping = callbacks.EarlyStopping(monitor='loss',patience=3,verbose=1,mode='auto',baseline=None,restore_best_weights=True)\n",
        "history_logger1=tf.keras.callbacks.CSVLogger('./history1', separator=\",\", append=True)"
      ],
      "execution_count": null,
      "outputs": []
    },
    {
      "cell_type": "code",
      "metadata": {
        "id": "fLLPKFu17KmW"
      },
      "source": [
        "model = unet(input_size=(96,96,1))\n",
        "#model.summary()"
      ],
      "execution_count": null,
      "outputs": []
    },
    {
      "cell_type": "code",
      "metadata": {
        "colab": {
          "base_uri": "https://localhost:8080/"
        },
        "id": "o53uFJMGzAyM",
        "outputId": "7e0612dc-0e7b-4e91-b19e-f14175ee7df2"
      },
      "source": [
        "history = model.fit(\n",
        "    train_generator,\n",
        "    steps_per_epoch=193,\n",
        "    epochs=16,\n",
        "    batch_size=8,\n",
        "    callbacks=[earlystopping,checkpointer])"
      ],
      "execution_count": null,
      "outputs": [
        {
          "output_type": "stream",
          "name": "stdout",
          "text": [
            "Epoch 1/16\n",
            "193/193 [==============================] - 113s 576ms/step - loss: 1.1073 - accuracy: 0.7809\n",
            "WARNING:tensorflow:Can save best model only with val_loss available, skipping.\n",
            "Epoch 2/16\n",
            "193/193 [==============================] - 111s 575ms/step - loss: 0.2497 - accuracy: 0.9377\n",
            "WARNING:tensorflow:Can save best model only with val_loss available, skipping.\n",
            "Epoch 3/16\n",
            "193/193 [==============================] - 110s 572ms/step - loss: 0.2288 - accuracy: 0.9414\n",
            "WARNING:tensorflow:Can save best model only with val_loss available, skipping.\n",
            "Epoch 4/16\n",
            "193/193 [==============================] - 111s 574ms/step - loss: 0.2135 - accuracy: 0.9440\n",
            "WARNING:tensorflow:Can save best model only with val_loss available, skipping.\n",
            "Epoch 5/16\n",
            "193/193 [==============================] - 110s 572ms/step - loss: 0.2015 - accuracy: 0.9441\n",
            "WARNING:tensorflow:Can save best model only with val_loss available, skipping.\n",
            "Epoch 6/16\n",
            "193/193 [==============================] - 111s 574ms/step - loss: 0.1936 - accuracy: 0.9422\n",
            "WARNING:tensorflow:Can save best model only with val_loss available, skipping.\n",
            "Epoch 7/16\n",
            "193/193 [==============================] - 110s 571ms/step - loss: 0.1856 - accuracy: 0.9433\n",
            "WARNING:tensorflow:Can save best model only with val_loss available, skipping.\n",
            "Epoch 8/16\n",
            "193/193 [==============================] - 111s 574ms/step - loss: 0.1791 - accuracy: 0.9423\n",
            "WARNING:tensorflow:Can save best model only with val_loss available, skipping.\n",
            "Epoch 9/16\n",
            "193/193 [==============================] - 110s 574ms/step - loss: 0.1723 - accuracy: 0.9435\n",
            "WARNING:tensorflow:Can save best model only with val_loss available, skipping.\n",
            "Epoch 10/16\n",
            "193/193 [==============================] - 110s 570ms/step - loss: 0.1681 - accuracy: 0.9428\n",
            "WARNING:tensorflow:Can save best model only with val_loss available, skipping.\n",
            "Epoch 11/16\n",
            "193/193 [==============================] - 111s 573ms/step - loss: 0.1625 - accuracy: 0.9456\n",
            "WARNING:tensorflow:Can save best model only with val_loss available, skipping.\n",
            "Epoch 12/16\n",
            "193/193 [==============================] - 110s 570ms/step - loss: 0.1603 - accuracy: 0.9442\n",
            "WARNING:tensorflow:Can save best model only with val_loss available, skipping.\n",
            "Epoch 13/16\n",
            "193/193 [==============================] - 111s 573ms/step - loss: 0.1570 - accuracy: 0.9435\n",
            "WARNING:tensorflow:Can save best model only with val_loss available, skipping.\n",
            "Epoch 14/16\n",
            "193/193 [==============================] - 110s 570ms/step - loss: 0.1530 - accuracy: 0.9444\n",
            "WARNING:tensorflow:Can save best model only with val_loss available, skipping.\n",
            "Epoch 15/16\n",
            "193/193 [==============================] - 111s 573ms/step - loss: 0.1517 - accuracy: 0.9433\n",
            "WARNING:tensorflow:Can save best model only with val_loss available, skipping.\n",
            "Epoch 16/16\n",
            "193/193 [==============================] - 110s 573ms/step - loss: 0.1494 - accuracy: 0.9430\n",
            "WARNING:tensorflow:Can save best model only with val_loss available, skipping.\n"
          ]
        }
      ]
    },
    {
      "cell_type": "code",
      "metadata": {
        "id": "xHWpMZtczAqd"
      },
      "source": [
        "from matplotlib import image\n",
        "from matplotlib import pyplot as plt \n",
        "import numpy as np\n",
        "from skimage import color\n",
        "from skimage import io\n",
        "from skimage.util import compare_images\n",
        "from scipy.ndimage.morphology import binary_fill_holes\n",
        "import os"
      ],
      "execution_count": null,
      "outputs": []
    },
    {
      "cell_type": "code",
      "metadata": {
        "colab": {
          "base_uri": "https://localhost:8080/"
        },
        "id": "bMwD6F7o7CR_",
        "outputId": "1560af1c-b928-4146-d2a3-7f598322602d"
      },
      "source": [
        "a = color.rgb2gray(image.imread('./masked/img/0_surgical.png'))\n",
        "b = color.rgb2gray(image.imread('./mask/img/0.png'))\n",
        "\n",
        "print(np.unique(b))       "
      ],
      "execution_count": null,
      "outputs": [
        {
          "output_type": "stream",
          "name": "stdout",
          "text": [
            "[0.         0.99999994]\n"
          ]
        }
      ]
    },
    {
      "cell_type": "code",
      "metadata": {
        "colab": {
          "base_uri": "https://localhost:8080/"
        },
        "id": "UTtyQCz3DRPO",
        "outputId": "dc893623-4d60-4655-a476-726604b6834b"
      },
      "source": [
        "x = mask_generator.next()\n",
        "np.unique(x)"
      ],
      "execution_count": null,
      "outputs": [
        {
          "output_type": "execute_result",
          "data": {
            "text/plain": [
              "array([  0., 255.], dtype=float32)"
            ]
          },
          "metadata": {},
          "execution_count": 30
        }
      ]
    },
    {
      "cell_type": "code",
      "metadata": {
        "colab": {
          "base_uri": "https://localhost:8080/",
          "height": 295
        },
        "id": "o5pgL-aZyrT2",
        "outputId": "65670e31-0a2b-492c-f45d-aa93a2f61bfa"
      },
      "source": [
        "plt.plot(history.history['accuracy'])\n",
        "plt.plot(history.history['loss'])\n",
        "#plt.plot(history.history['val_accuracy'])\n",
        "plt.title('model accuracy')\n",
        "plt.ylabel('accuracy')\n",
        "plt.xlabel('epoch')\n",
        "plt.legend(['train', 'validation'], loc='upper left')\n",
        "plt.show()"
      ],
      "execution_count": null,
      "outputs": [
        {
          "output_type": "display_data",
          "data": {
            "image/png": "[encoded data removed]",
            "text/plain": [
              "<Figure size 432x288 with 1 Axes>"
            ]
          },
          "metadata": {
            "needs_background": "light"
          }
        }
      ]
    },
    {
      "cell_type": "code",
      "metadata": {
        "colab": {
          "base_uri": "https://localhost:8080/",
          "height": 295
        },
        "id": "MnlhnaPyzZX-",
        "outputId": "4cfb0eae-bb37-4090-8afa-f20615ce30d4"
      },
      "source": [
        "plt.plot(history.history['loss'])\n",
        "#plt.plot(history.history['val_accuracy'])\n",
        "plt.title('model accuracy')\n",
        "plt.ylabel('accuracy')\n",
        "plt.xlabel('epoch')\n",
        "plt.legend(['train', 'validation'], loc='upper left')\n",
        "plt.show()"
      ],
      "execution_count": null,
      "outputs": [
        {
          "output_type": "display_data",
          "data": {
            "image/png": "[encoded data removed]",
            "text/plain": [
              "<Figure size 432x288 with 1 Axes>"
            ]
          },
          "metadata": {
            "needs_background": "light"
          }
        }
      ]
    },
    {
      "cell_type": "code",
      "metadata": {
        "colab": {
          "base_uri": "https://localhost:8080/"
        },
        "id": "O9vFMJTf6zyn",
        "outputId": "fd44dfcd-b5b5-4798-8801-73d03eba4d95"
      },
      "source": [
        "pred = model.predict(image_generator.next())\n",
        "pred.shape"
      ],
      "execution_count": null,
      "outputs": [
        {
          "output_type": "stream",
          "name": "stdout",
          "text": [
            "WARNING:tensorflow:5 out of the last 5 calls to <function Model.make_predict_function.<locals>.predict_function at 0x7f5fd58de3b0> triggered tf.function retracing. Tracing is expensive and the excessive number of tracings could be due to (1) creating @tf.function repeatedly in a loop, (2) passing tensors with different shapes, (3) passing Python objects instead of tensors. For (1), please define your @tf.function outside of the loop. For (2), @tf.function has experimental_relax_shapes=True option that relaxes argument shapes that can avoid unnecessary retracing. For (3), please refer to https://www.tensorflow.org/guide/function#controlling_retracing and https://www.tensorflow.org/api_docs/python/tf/function for  more details.\n"
          ]
        },
        {
          "output_type": "execute_result",
          "data": {
            "text/plain": [
              "(32, 96, 96, 1)"
            ]
          },
          "metadata": {},
          "execution_count": 36
        }
      ]
    },
    {
      "cell_type": "code",
      "metadata": {
        "colab": {
          "base_uri": "https://localhost:8080/",
          "height": 285
        },
        "id": "5KDwp3LuAbQz",
        "outputId": "c8aab506-a689-44fc-ac62-b045c0e54fd1"
      },
      "source": [
        "plt.imshow(pred[3,:,:,0])"
      ],
      "execution_count": null,
      "outputs": [
        {
          "output_type": "execute_result",
          "data": {
            "text/plain": [
              "<matplotlib.image.AxesImage at 0x7f5ee85b38d0>"
            ]
          },
          "metadata": {},
          "execution_count": 37
        },
        {
          "output_type": "display_data",
          "data": {
            "image/png": "[encoded data removed]",
            "text/plain": [
              "<Figure size 432x288 with 1 Axes>"
            ]
          },
          "metadata": {
            "needs_background": "light"
          }
        }
      ]
    },
    {
      "cell_type": "code",
      "metadata": {
        "colab": {
          "base_uri": "https://localhost:8080/",
          "height": 285
        },
        "id": "wU0zB5MYBoqc",
        "outputId": "62083ae6-ddb4-4264-b020-fa094e57810a"
      },
      "source": [
        "plt.imshow(mask_generator.next()[3,:,:,0])"
      ],
      "execution_count": null,
      "outputs": [
        {
          "output_type": "execute_result",
          "data": {
            "text/plain": [
              "<matplotlib.image.AxesImage at 0x7f5ee83af050>"
            ]
          },
          "metadata": {},
          "execution_count": 38
        },
        {
          "output_type": "display_data",
          "data": {
            "image/png": "[encoded data removed]",
            "text/plain": [
              "<Figure size 432x288 with 1 Axes>"
            ]
          },
          "metadata": {
            "needs_background": "light"
          }
        }
      ]
    },
    {
      "cell_type": "code",
      "metadata": {
        "id": "eIzIpDvbHrI1"
      },
      "source": [
        "git"
      ],
      "execution_count": null,
      "outputs": []
    }
  ]
}